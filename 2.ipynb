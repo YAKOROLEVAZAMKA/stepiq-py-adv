{
 "cells": [
  {
   "cell_type": "code",
   "execution_count": 1,
   "metadata": {},
   "outputs": [],
   "source": [
    "class EvenLengthMixin:\n",
    "    def even_length(self):\n",
    "        return len(self) % 2 == 0\n",
    "    \n",
    "class MyList(list, EvenLengthMixin):\n",
    "    pass"
   ]
  },
  {
   "cell_type": "code",
   "execution_count": 3,
   "metadata": {},
   "outputs": [],
   "source": [
    "ml = MyList([1, 12, 4, 17])"
   ]
  },
  {
   "cell_type": "code",
   "execution_count": 4,
   "metadata": {},
   "outputs": [],
   "source": [
    "ml.sort()"
   ]
  },
  {
   "cell_type": "code",
   "execution_count": 7,
   "metadata": {},
   "outputs": [
    {
     "name": "stdout",
     "output_type": "stream",
     "text": [
      "[1, 4, 12, 17]\n"
     ]
    }
   ],
   "source": [
    "print(ml)"
   ]
  },
  {
   "cell_type": "code",
   "execution_count": null,
   "metadata": {},
   "outputs": [],
   "source": []
  },
  {
   "cell_type": "code",
   "execution_count": 8,
   "metadata": {},
   "outputs": [
    {
     "name": "stdout",
     "output_type": "stream",
     "text": [
      "asdasdasdasdas\n",
      "111\n"
     ]
    }
   ],
   "source": [
    "try:\n",
    "    x = [1, 2, 'asd', 5]\n",
    "    x.sort()\n",
    "    print(x)\n",
    "except TypeError:\n",
    "    print('asdasdasdasdas')\n",
    "\n",
    "print(111)"
   ]
  },
  {
   "cell_type": "code",
   "execution_count": 13,
   "metadata": {},
   "outputs": [],
   "source": [
    "def f(x, y):\n",
    "    try:\n",
    "        return x / y\n",
    "    except TypeError:\n",
    "        print('Type error')\n",
    "    except ZeroDivisionError:\n",
    "        print('ZeroDivisionError')\n",
    "    "
   ]
  },
  {
   "cell_type": "code",
   "execution_count": 14,
   "metadata": {},
   "outputs": [
    {
     "name": "stdout",
     "output_type": "stream",
     "text": [
      "ZeroDivisionError\n",
      "None\n"
     ]
    }
   ],
   "source": [
    "print(f(5, 0))"
   ]
  },
  {
   "cell_type": "code",
   "execution_count": 20,
   "metadata": {},
   "outputs": [],
   "source": [
    "def f(x, y):\n",
    "    try:\n",
    "        return x / y\n",
    "        # e\n",
    "    except (TypeError, ZeroDivisionError) as e: # isinstance(e, (..., ...)) == True\n",
    "        print(type(e))\n",
    "        print(e)\n",
    "        print(e.args)\n"
   ]
  },
  {
   "cell_type": "code",
   "execution_count": 21,
   "metadata": {},
   "outputs": [
    {
     "name": "stdout",
     "output_type": "stream",
     "text": [
      "<class 'ZeroDivisionError'>\n",
      "division by zero\n",
      "('division by zero',)\n",
      "None\n",
      "<class 'TypeError'>\n",
      "unsupported operand type(s) for /: 'int' and 'str'\n",
      "(\"unsupported operand type(s) for /: 'int' and 'str'\",)\n",
      "None\n"
     ]
    }
   ],
   "source": [
    "print(f(5, 0))\n",
    "print(f(5, 'asd'))"
   ]
  },
  {
   "cell_type": "code",
   "execution_count": null,
   "metadata": {},
   "outputs": [],
   "source": []
  },
  {
   "cell_type": "code",
   "execution_count": 30,
   "metadata": {},
   "outputs": [],
   "source": [
    "def f(x, y):\n",
    "    try:\n",
    "        res = x / y\n",
    "        # e\n",
    "    except (TypeError, ZeroDivisionError) as e: # isinstance(e, (..., ...)) == True\n",
    "        print(type(e))\n",
    "        print(e)\n",
    "        print(e.args)\n",
    "    else:\n",
    "        print('result=' + str(res))\n",
    "    finally:\n",
    "        print('asdasd')\n"
   ]
  },
  {
   "cell_type": "code",
   "execution_count": 31,
   "metadata": {},
   "outputs": [
    {
     "name": "stdout",
     "output_type": "stream",
     "text": [
      "<class 'ZeroDivisionError'>\n",
      "division by zero\n",
      "('division by zero',)\n",
      "asdasd\n",
      "<class 'TypeError'>\n",
      "unsupported operand type(s) for /: 'int' and 'str'\n",
      "(\"unsupported operand type(s) for /: 'int' and 'str'\",)\n",
      "asdasd\n",
      "result=2.5\n",
      "asdasd\n"
     ]
    }
   ],
   "source": [
    "f(5, 0)\n",
    "f(5, 'asd')\n",
    "f(5, 2)\n",
    "#print(f(5, [1]))"
   ]
  },
  {
   "cell_type": "code",
   "execution_count": null,
   "metadata": {},
   "outputs": [],
   "source": []
  },
  {
   "cell_type": "code",
   "execution_count": 32,
   "metadata": {},
   "outputs": [],
   "source": [
    "def foo(x, y):\n",
    "    print(x / y)"
   ]
  },
  {
   "cell_type": "code",
   "execution_count": null,
   "metadata": {},
   "outputs": [],
   "source": [
    "try:\n",
    "    foo(5, 2)\n",
    "except ZeroDivisionError:\n",
    "    print(\"ZeroDivisionError\")\n",
    "except ArithmeticError:\n",
    "    print(\"ArithmeticError\")\n",
    "except AssertionError:\n",
    "    print(\"AssertionError\")\n"
   ]
  },
  {
   "cell_type": "code",
   "execution_count": null,
   "metadata": {},
   "outputs": [],
   "source": [
    "try:\n",
    "    foo()\n",
    "except (ZeroDivisionError, AssertionError) as e:\n",
    "    print(e.__class__.__name__)\n",
    "except:\n",
    "    print('ArithmeticError')"
   ]
  },
  {
   "cell_type": "code",
   "execution_count": null,
   "metadata": {},
   "outputs": [],
   "source": []
  },
  {
   "cell_type": "code",
   "execution_count": null,
   "metadata": {},
   "outputs": [],
   "source": []
  },
  {
   "cell_type": "code",
   "execution_count": 95,
   "metadata": {},
   "outputs": [
    {
     "name": "stdin",
     "output_type": "stream",
     "text": [
      " 4\n",
      " a\n",
      " z:a\n",
      " o\n",
      " f:o\n",
      " 4\n",
      " z\n",
      " o\n",
      " a\n",
      " f\n"
     ]
    }
   ],
   "source": [
    "d = dict()\n",
    "d2 = dict()\n",
    "for i in range(int(input())):\n",
    "    temp = input()\n",
    "    if temp.find(':') != -1:\n",
    "        son, parents = temp.split(':')\n",
    "        parents = parents.split()\n",
    "        son = son.strip()\n",
    "        for parent in parents:\n",
    "            d[parent] = d.get(parent, []) + [son]\n",
    "            d2[son] = d.get(son, []) + [parent]\n",
    "    else:\n",
    "        d[temp] = []\n",
    "\n",
    "ans = []\n",
    "cort = []\n",
    "\n",
    "for j in range(int(input())):\n",
    "    temp2 = input()\n",
    "    try:\n",
    "        temp3 = d2[temp2]\n",
    "    \n",
    "        if 'xxx' in d2[temp2]:\n",
    "            ans.append(temp2)\n",
    "        for ele in temp3:\n",
    "            d[ele] = d.get(ele, []) + ['xxx']\n",
    "        \n",
    "    except:\n",
    "        ;\n",
    "    \n",
    "    \n",
    "\n",
    "\n",
    "\n",
    "for ele in ans:\n",
    "    print(ele)"
   ]
  },
  {
   "cell_type": "code",
   "execution_count": 96,
   "metadata": {},
   "outputs": [
    {
     "data": {
      "text/plain": [
       "{'a': ['z', 'xxx'], 'o': ['f', 'xxx']}"
      ]
     },
     "execution_count": 96,
     "metadata": {},
     "output_type": "execute_result"
    }
   ],
   "source": [
    "d"
   ]
  },
  {
   "cell_type": "code",
   "execution_count": 97,
   "metadata": {},
   "outputs": [
    {
     "data": {
      "text/plain": [
       "{'z': ['a'], 'f': ['o']}"
      ]
     },
     "execution_count": 97,
     "metadata": {},
     "output_type": "execute_result"
    }
   ],
   "source": [
    "d2"
   ]
  },
  {
   "cell_type": "code",
   "execution_count": 99,
   "metadata": {},
   "outputs": [
    {
     "data": {
      "text/plain": [
       "[]"
      ]
     },
     "execution_count": 99,
     "metadata": {},
     "output_type": "execute_result"
    }
   ],
   "source": [
    "ans"
   ]
  },
  {
   "cell_type": "code",
   "execution_count": 75,
   "metadata": {},
   "outputs": [
    {
     "data": {
      "text/plain": [
       "['a']"
      ]
     },
     "execution_count": 75,
     "metadata": {},
     "output_type": "execute_result"
    }
   ],
   "source": [
    "d['z']"
   ]
  },
  {
   "cell_type": "code",
   "execution_count": null,
   "metadata": {},
   "outputs": [],
   "source": []
  },
  {
   "cell_type": "code",
   "execution_count": null,
   "metadata": {},
   "outputs": [],
   "source": []
  },
  {
   "cell_type": "code",
   "execution_count": null,
   "metadata": {},
   "outputs": [],
   "source": [
    "for j in range(int(input())):\n",
    "    temp2 = input()\n",
    "    temp3 = d[temp2]\n",
    "    if 'xxx' in temp3:\n",
    "        ans.append(temp2)\n",
    "    else:\n",
    "        for ele in temp3:\n",
    "            d[ele] = d.get(ele, []) + ['xxx']\n",
    "    \n",
    "\n",
    "\n",
    "\n",
    "for ele in ans:\n",
    "    print(ele)"
   ]
  },
  {
   "cell_type": "code",
   "execution_count": null,
   "metadata": {},
   "outputs": [],
   "source": []
  },
  {
   "cell_type": "code",
   "execution_count": null,
   "metadata": {},
   "outputs": [],
   "source": []
  },
  {
   "cell_type": "code",
   "execution_count": null,
   "metadata": {},
   "outputs": [],
   "source": []
  },
  {
   "cell_type": "markdown",
   "metadata": {},
   "source": [
    "### CATCH - THROW"
   ]
  },
  {
   "cell_type": "code",
   "execution_count": 100,
   "metadata": {},
   "outputs": [],
   "source": [
    "def greet(name):\n",
    "    if name[0].isupper():\n",
    "        return 'Hello,' + name\n",
    "    else:\n",
    "        raise ValueError(name + ' is inappropriate name')\n"
   ]
  },
  {
   "cell_type": "code",
   "execution_count": 101,
   "metadata": {},
   "outputs": [
    {
     "name": "stdout",
     "output_type": "stream",
     "text": [
      "Hello,Lox\n"
     ]
    },
    {
     "ename": "ValueError",
     "evalue": "lox is inappropriate name",
     "output_type": "error",
     "traceback": [
      "\u001b[1;31m---------------------------------------------------------------------------\u001b[0m",
      "\u001b[1;31mValueError\u001b[0m                                Traceback (most recent call last)",
      "\u001b[1;32m<ipython-input-101-ac5de7c307e4>\u001b[0m in \u001b[0;36m<module>\u001b[1;34m\u001b[0m\n\u001b[0;32m      1\u001b[0m \u001b[0mprint\u001b[0m\u001b[1;33m(\u001b[0m\u001b[0mgreet\u001b[0m\u001b[1;33m(\u001b[0m\u001b[1;34m'Lox'\u001b[0m\u001b[1;33m)\u001b[0m\u001b[1;33m)\u001b[0m\u001b[1;33m\u001b[0m\u001b[1;33m\u001b[0m\u001b[0m\n\u001b[1;32m----> 2\u001b[1;33m \u001b[0mprint\u001b[0m\u001b[1;33m(\u001b[0m\u001b[0mgreet\u001b[0m\u001b[1;33m(\u001b[0m\u001b[1;34m'lox'\u001b[0m\u001b[1;33m)\u001b[0m\u001b[1;33m)\u001b[0m\u001b[1;33m\u001b[0m\u001b[1;33m\u001b[0m\u001b[0m\n\u001b[0m",
      "\u001b[1;32m<ipython-input-100-b957833c58aa>\u001b[0m in \u001b[0;36mgreet\u001b[1;34m(name)\u001b[0m\n\u001b[0;32m      3\u001b[0m         \u001b[1;32mreturn\u001b[0m \u001b[1;34m'Hello,'\u001b[0m \u001b[1;33m+\u001b[0m \u001b[0mname\u001b[0m\u001b[1;33m\u001b[0m\u001b[1;33m\u001b[0m\u001b[0m\n\u001b[0;32m      4\u001b[0m     \u001b[1;32melse\u001b[0m\u001b[1;33m:\u001b[0m\u001b[1;33m\u001b[0m\u001b[1;33m\u001b[0m\u001b[0m\n\u001b[1;32m----> 5\u001b[1;33m         \u001b[1;32mraise\u001b[0m \u001b[0mValueError\u001b[0m\u001b[1;33m(\u001b[0m\u001b[0mname\u001b[0m \u001b[1;33m+\u001b[0m \u001b[1;34m' is inappropriate name'\u001b[0m\u001b[1;33m)\u001b[0m\u001b[1;33m\u001b[0m\u001b[1;33m\u001b[0m\u001b[0m\n\u001b[0m",
      "\u001b[1;31mValueError\u001b[0m: lox is inappropriate name"
     ]
    }
   ],
   "source": [
    "print(greet('Lox'))\n",
    "print(greet('lox'))"
   ]
  },
  {
   "cell_type": "code",
   "execution_count": null,
   "metadata": {},
   "outputs": [],
   "source": []
  },
  {
   "cell_type": "code",
   "execution_count": 104,
   "metadata": {},
   "outputs": [
    {
     "name": "stdin",
     "output_type": "stream",
     "text": [
      " asd\n"
     ]
    },
    {
     "name": "stdout",
     "output_type": "stream",
     "text": [
      "Try again\n"
     ]
    },
    {
     "name": "stdin",
     "output_type": "stream",
     "text": [
      " lL\n"
     ]
    },
    {
     "name": "stdout",
     "output_type": "stream",
     "text": [
      "Try again\n"
     ]
    },
    {
     "name": "stdin",
     "output_type": "stream",
     "text": [
      " L\n"
     ]
    },
    {
     "name": "stdout",
     "output_type": "stream",
     "text": [
      "Hello, L\n"
     ]
    }
   ],
   "source": [
    "class BadName(Exception):\n",
    "    pass\n",
    "\n",
    "def greet(name):\n",
    "    if name[0].isupper():\n",
    "        return 'Hello, ' + name\n",
    "    else:\n",
    "        raise BadName(name + ' is inappropriate name')\n",
    "\n",
    "while True:\n",
    "    try:\n",
    "        name = input()\n",
    "        greeting = greet(name)\n",
    "        print(greeting)\n",
    "    except BadName:\n",
    "        print(\"Try again\")\n",
    "    else:\n",
    "        break"
   ]
  },
  {
   "cell_type": "code",
   "execution_count": null,
   "metadata": {},
   "outputs": [],
   "source": []
  },
  {
   "cell_type": "code",
   "execution_count": null,
   "metadata": {},
   "outputs": [],
   "source": []
  },
  {
   "cell_type": "code",
   "execution_count": null,
   "metadata": {},
   "outputs": [],
   "source": [
    "class LoggableList(list, Loggable):\n",
    "    \n",
    "    def append(self, p_object):\n",
    "        x = super(LoggableList, self).append(p_object)\n",
    "        Loggable.log(self, p_object)\n",
    "        return(x)\n"
   ]
  },
  {
   "cell_type": "code",
   "execution_count": null,
   "metadata": {},
   "outputs": [],
   "source": []
  },
  {
   "cell_type": "code",
   "execution_count": 120,
   "metadata": {},
   "outputs": [],
   "source": [
    "class NonPositiveError(Exception):\n",
    "    pass\n",
    "\n",
    "class PositiveList(list):\n",
    "    \n",
    "    def append(self, p_object):\n",
    "        if p_object > 0:\n",
    "            x = super(PositiveList, self).append(p_object)\n",
    "            return (x)\n",
    "        else:\n",
    "            raise NonPositiveError\n"
   ]
  },
  {
   "cell_type": "code",
   "execution_count": 123,
   "metadata": {},
   "outputs": [],
   "source": [
    "a = PositiveList()"
   ]
  },
  {
   "cell_type": "code",
   "execution_count": 124,
   "metadata": {},
   "outputs": [],
   "source": [
    "a.append(3)"
   ]
  },
  {
   "cell_type": "code",
   "execution_count": 125,
   "metadata": {},
   "outputs": [
    {
     "data": {
      "text/plain": [
       "[3]"
      ]
     },
     "execution_count": 125,
     "metadata": {},
     "output_type": "execute_result"
    }
   ],
   "source": [
    "a"
   ]
  },
  {
   "cell_type": "code",
   "execution_count": null,
   "metadata": {},
   "outputs": [],
   "source": [
    "class NonPositiveError(ArithmeticError):\n",
    "    pass\n",
    "\n",
    "class PositiveList(list):\n",
    "    def append(self, x):\n",
    "        if x <= 0:\n",
    "            raise NonPositiveError\n",
    "        super().append(x)"
   ]
  },
  {
   "cell_type": "code",
   "execution_count": null,
   "metadata": {},
   "outputs": [],
   "source": []
  },
  {
   "cell_type": "code",
   "execution_count": null,
   "metadata": {},
   "outputs": [],
   "source": []
  },
  {
   "cell_type": "code",
   "execution_count": null,
   "metadata": {},
   "outputs": [],
   "source": []
  },
  {
   "cell_type": "code",
   "execution_count": null,
   "metadata": {},
   "outputs": [],
   "source": []
  },
  {
   "cell_type": "code",
   "execution_count": null,
   "metadata": {},
   "outputs": [],
   "source": []
  },
  {
   "cell_type": "code",
   "execution_count": null,
   "metadata": {},
   "outputs": [],
   "source": []
  },
  {
   "cell_type": "code",
   "execution_count": null,
   "metadata": {},
   "outputs": [],
   "source": []
  }
 ],
 "metadata": {
  "kernelspec": {
   "display_name": "Python 3",
   "language": "python",
   "name": "python3"
  },
  "language_info": {
   "codemirror_mode": {
    "name": "ipython",
    "version": 3
   },
   "file_extension": ".py",
   "mimetype": "text/x-python",
   "name": "python",
   "nbconvert_exporter": "python",
   "pygments_lexer": "ipython3",
   "version": "3.7.3"
  }
 },
 "nbformat": 4,
 "nbformat_minor": 2
}
