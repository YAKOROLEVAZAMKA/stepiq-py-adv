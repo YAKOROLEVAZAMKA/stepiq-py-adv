{
 "cells": [
  {
   "cell_type": "code",
   "execution_count": 1,
   "metadata": {},
   "outputs": [
    {
     "data": {
      "text/plain": [
       "1346269"
      ]
     },
     "execution_count": 1,
     "metadata": {},
     "output_type": "execute_result"
    }
   ],
   "source": [
    "fib = lambda x : 1 if x <= 2 else fib(x - 1) + fib(x - 2)\n",
    "fib(31)"
   ]
  },
  {
   "cell_type": "code",
   "execution_count": null,
   "metadata": {},
   "outputs": [],
   "source": []
  },
  {
   "cell_type": "code",
   "execution_count": 2,
   "metadata": {},
   "outputs": [
    {
     "name": "stdin",
     "output_type": "stream",
     "text": [
      " 2\n",
      " 2\n",
      " 3\n"
     ]
    },
    {
     "name": "stdout",
     "output_type": "stream",
     "text": [
      "5\n"
     ]
    }
   ],
   "source": [
    "x = 0\n",
    "for i in range(int(input())):\n",
    "    x += int(input())\n",
    "print(x)"
   ]
  },
  {
   "cell_type": "code",
   "execution_count": 4,
   "metadata": {},
   "outputs": [
    {
     "name": "stdin",
     "output_type": "stream",
     "text": [
      " 2\n",
      " 2\n",
      " 3\n"
     ]
    },
    {
     "name": "stdout",
     "output_type": "stream",
     "text": [
      "5\n"
     ]
    }
   ],
   "source": [
    "print(sum(int(input()) for x in range(int(input()))))"
   ]
  },
  {
   "cell_type": "code",
   "execution_count": null,
   "metadata": {},
   "outputs": [],
   "source": []
  },
  {
   "cell_type": "code",
   "execution_count": 5,
   "metadata": {},
   "outputs": [
    {
     "name": "stdout",
     "output_type": "stream",
     "text": [
      "2468056853768\n",
      "2468056853576\n",
      "2468056853768\n"
     ]
    }
   ],
   "source": [
    "x = [1, 2, 3]\n",
    "print(id(x))\n",
    "print(id([1, 2, 3]))\n",
    "y = x\n",
    "print(id(y))"
   ]
  },
  {
   "cell_type": "code",
   "execution_count": 6,
   "metadata": {},
   "outputs": [
    {
     "data": {
      "text/plain": [
       "int"
      ]
     },
     "execution_count": 6,
     "metadata": {},
     "output_type": "execute_result"
    }
   ],
   "source": [
    "type(id(x))"
   ]
  },
  {
   "cell_type": "code",
   "execution_count": 7,
   "metadata": {},
   "outputs": [
    {
     "data": {
      "text/plain": [
       "int"
      ]
     },
     "execution_count": 7,
     "metadata": {},
     "output_type": "execute_result"
    }
   ],
   "source": [
    "type(id('123'))"
   ]
  },
  {
   "cell_type": "code",
   "execution_count": null,
   "metadata": {},
   "outputs": [],
   "source": []
  },
  {
   "cell_type": "code",
   "execution_count": 8,
   "metadata": {},
   "outputs": [
    {
     "name": "stdout",
     "output_type": "stream",
     "text": [
      "[1, 2, 3, 4] 123\n"
     ]
    }
   ],
   "source": [
    "x = [1, 2, 3]\n",
    "y = x\n",
    "y.append(4)\n",
    "\n",
    "s = \"123\"\n",
    "t = s\n",
    "t = t + \"4\"\n",
    "\n",
    "print(str(x) + \" \" + s)"
   ]
  },
  {
   "cell_type": "code",
   "execution_count": null,
   "metadata": {},
   "outputs": [],
   "source": []
  },
  {
   "cell_type": "code",
   "execution_count": 18,
   "metadata": {},
   "outputs": [],
   "source": [
    "objects = [1, 2, 3, 1, 2, 5, 5, 7, 8, 9]"
   ]
  },
  {
   "cell_type": "code",
   "execution_count": 23,
   "metadata": {},
   "outputs": [
    {
     "name": "stdout",
     "output_type": "stream",
     "text": [
      "7\n"
     ]
    }
   ],
   "source": [
    "a = set()\n",
    "k = 0\n",
    "x = 0\n",
    "for i in range(len(objects)):\n",
    "    for j in range(i + 1, len(objects)):\n",
    "        if objects[i] is objects[j]:\n",
    "            x += 1\n",
    "            break\n",
    "    if x == 0:\n",
    "        k += 1\n",
    "    x = 0    \n",
    "    if i + 1 == len(objects):\n",
    "        break\n",
    "print(k)\n"
   ]
  },
  {
   "cell_type": "code",
   "execution_count": null,
   "metadata": {},
   "outputs": [],
   "source": [
    "print(len({id(x) for x in objects}))"
   ]
  },
  {
   "cell_type": "code",
   "execution_count": null,
   "metadata": {},
   "outputs": [],
   "source": [
    "p = {}\n",
    "for i in objects:\n",
    "    p[id(i)] = id(i)\n",
    "print(len(p))"
   ]
  },
  {
   "cell_type": "code",
   "execution_count": null,
   "metadata": {},
   "outputs": [],
   "source": []
  },
  {
   "cell_type": "code",
   "execution_count": 24,
   "metadata": {},
   "outputs": [
    {
     "name": "stdout",
     "output_type": "stream",
     "text": [
      "43\n",
      "6\n"
     ]
    }
   ],
   "source": [
    "def list_sum(lst):\n",
    "    res = 0\n",
    "    for ele in lst:\n",
    "        res += ele\n",
    "    return res\n",
    "\n",
    "def sum1(a, b):\n",
    "    return a + b\n",
    "\n",
    "y = sum1(14, 29)\n",
    "z = list_sum([1, 2, 3])\n",
    "\n",
    "print(y)\n",
    "print(z)"
   ]
  },
  {
   "cell_type": "code",
   "execution_count": null,
   "metadata": {},
   "outputs": [],
   "source": []
  },
  {
   "cell_type": "code",
   "execution_count": 25,
   "metadata": {},
   "outputs": [
    {
     "name": "stdout",
     "output_type": "stream",
     "text": [
      "['arg1', 'arg2', 'foo']\n"
     ]
    }
   ],
   "source": [
    "a = []\n",
    "\n",
    "def foo(arg1, arg2):\n",
    "  a.append(\"foo\")\n",
    "\n",
    "foo(a.append(\"arg1\"), a.append(\"arg2\"))\n",
    "\n",
    "print(a)"
   ]
  },
  {
   "cell_type": "code",
   "execution_count": null,
   "metadata": {},
   "outputs": [],
   "source": []
  },
  {
   "cell_type": "code",
   "execution_count": 33,
   "metadata": {},
   "outputs": [
    {
     "name": "stdout",
     "output_type": "stream",
     "text": [
      "12\n",
      "6\n"
     ]
    }
   ],
   "source": [
    "k = 0\n",
    "def h():\n",
    "    global k\n",
    "    k += 2\n",
    "    print(12)\n",
    "\n",
    "def f():\n",
    "    global k\n",
    "    k += 1\n",
    "    g(h)\n",
    "\n",
    "def g(a):\n",
    "    global k\n",
    "    k += 1\n",
    "    a()\n",
    "\n",
    "g(f)\n",
    "print(k + 1)"
   ]
  },
  {
   "cell_type": "code",
   "execution_count": null,
   "metadata": {},
   "outputs": [],
   "source": []
  },
  {
   "cell_type": "code",
   "execution_count": 31,
   "metadata": {},
   "outputs": [
    {
     "name": "stdout",
     "output_type": "stream",
     "text": [
      "\n",
      "MODULE\n",
      "- G -  <function f at 0x0000023EA3AF7268>\n",
      "- F\n",
      "- G -  <function h at 0x0000023EA3AF7950>\n",
      "- H\n",
      "- 12\n",
      "H - end\n",
      "G - end\n",
      "F - end\n",
      "G - end\n"
     ]
    }
   ],
   "source": [
    "def h():\n",
    "    print(\"- H\")\n",
    "    print(\"- 12\")\n",
    "    print(\"H - end\")\n",
    "\n",
    "def f():\n",
    "    print(\"- F\")\n",
    "    g(h)\n",
    "    print(\"F - end\")\n",
    "\n",
    "def g(a):\n",
    "    print(\"- G - \",a)\n",
    "    a()\n",
    "    print(\"G - end\")\n",
    "\n",
    "print(\"\\nMODULE\")\n",
    "g(f)"
   ]
  },
  {
   "cell_type": "code",
   "execution_count": null,
   "metadata": {},
   "outputs": [],
   "source": []
  },
  {
   "cell_type": "code",
   "execution_count": null,
   "metadata": {},
   "outputs": [],
   "source": [
    "def closest_mod_5(x):\n",
    "    return x if x % 5 == 0 else closest_mod_5(x + 1)\n"
   ]
  },
  {
   "cell_type": "code",
   "execution_count": null,
   "metadata": {},
   "outputs": [],
   "source": []
  },
  {
   "cell_type": "code",
   "execution_count": 36,
   "metadata": {},
   "outputs": [
    {
     "name": "stdout",
     "output_type": "stream",
     "text": [
      "1\n",
      "2\n",
      "10\n",
      "20\n"
     ]
    }
   ],
   "source": [
    "def printab(a, b):\n",
    "    print(a)\n",
    "    print(b)\n",
    "    \n",
    "lst = [1, 2]\n",
    "\n",
    "printab(*lst)\n",
    "\n",
    "d = {'a': 10, 'b': 20}\n",
    "\n",
    "printab(**d)\n"
   ]
  },
  {
   "cell_type": "code",
   "execution_count": null,
   "metadata": {},
   "outputs": [],
   "source": []
  },
  {
   "cell_type": "code",
   "execution_count": 41,
   "metadata": {},
   "outputs": [
    {
     "name": "stdout",
     "output_type": "stream",
     "text": [
      "1\n",
      "2\n",
      "<class 'tuple'>\n",
      "33\n",
      "44\n",
      "55\n"
     ]
    }
   ],
   "source": [
    "def printab(a, b, *args):\n",
    "    print(a)\n",
    "    print(b)\n",
    "    print(type(args))\n",
    "    for i in args:\n",
    "        print(i)\n",
    "\n",
    "printab(1, 2, 33, 44, 55)"
   ]
  },
  {
   "cell_type": "code",
   "execution_count": 42,
   "metadata": {},
   "outputs": [
    {
     "name": "stdout",
     "output_type": "stream",
     "text": [
      "1\n",
      "2\n",
      "<class 'dict'>\n",
      "lox 282\n",
      "zdarova 228\n"
     ]
    }
   ],
   "source": [
    "def printab(a, b, **kwargs):\n",
    "    print(a)\n",
    "    print(b)\n",
    "    print(type(kwargs))\n",
    "    for key in kwargs:\n",
    "        print(key, kwargs[key])\n",
    "\n",
    "printab(1, 2, lox=282, zdarova=228)"
   ]
  },
  {
   "cell_type": "code",
   "execution_count": null,
   "metadata": {},
   "outputs": [],
   "source": []
  },
  {
   "cell_type": "markdown",
   "metadata": {},
   "source": [
    "def func_name([ positional_args,\n",
    "              [  positional_args_with_default,\n",
    "              [  *pos_args_name,\n",
    "              [  keyword_only_args,\n",
    "              [  **kw_args_name]]]]]):\n",
    "    \n",
    "def printab(a, b=10, *args, c=10, d, **kwargs):\n",
    "    print(a, b, c, d)\n"
   ]
  },
  {
   "cell_type": "code",
   "execution_count": null,
   "metadata": {},
   "outputs": [],
   "source": []
  },
  {
   "cell_type": "code",
   "execution_count": 3,
   "metadata": {},
   "outputs": [],
   "source": [
    "def s(a, *vs, b=10):\n",
    "    res = a + b\n",
    "    for v in vs:\n",
    "        res += v\n",
    "    return res"
   ]
  },
  {
   "cell_type": "code",
   "execution_count": 7,
   "metadata": {},
   "outputs": [
    {
     "data": {
      "text/plain": [
       "31"
      ]
     },
     "execution_count": 7,
     "metadata": {},
     "output_type": "execute_result"
    }
   ],
   "source": [
    "s(21)"
   ]
  },
  {
   "cell_type": "code",
   "execution_count": 8,
   "metadata": {},
   "outputs": [
    {
     "data": {
      "text/plain": [
       "31"
      ]
     },
     "execution_count": 8,
     "metadata": {},
     "output_type": "execute_result"
    }
   ],
   "source": [
    "s(11, 10)"
   ]
  },
  {
   "cell_type": "code",
   "execution_count": 9,
   "metadata": {},
   "outputs": [
    {
     "data": {
      "text/plain": [
       "31"
      ]
     },
     "execution_count": 9,
     "metadata": {},
     "output_type": "execute_result"
    }
   ],
   "source": [
    "s(11, 10, b=10)"
   ]
  },
  {
   "cell_type": "code",
   "execution_count": 10,
   "metadata": {},
   "outputs": [
    {
     "ename": "TypeError",
     "evalue": "s() missing 1 required positional argument: 'a'",
     "output_type": "error",
     "traceback": [
      "\u001b[1;31m---------------------------------------------------------------------------\u001b[0m",
      "\u001b[1;31mTypeError\u001b[0m                                 Traceback (most recent call last)",
      "\u001b[1;32m<ipython-input-10-d9bf330fa4d3>\u001b[0m in \u001b[0;36m<module>\u001b[1;34m\u001b[0m\n\u001b[1;32m----> 1\u001b[1;33m \u001b[0ms\u001b[0m\u001b[1;33m(\u001b[0m\u001b[0mb\u001b[0m\u001b[1;33m=\u001b[0m\u001b[1;36m31\u001b[0m\u001b[1;33m)\u001b[0m\u001b[1;33m\u001b[0m\u001b[1;33m\u001b[0m\u001b[0m\n\u001b[0m",
      "\u001b[1;31mTypeError\u001b[0m: s() missing 1 required positional argument: 'a'"
     ]
    }
   ],
   "source": [
    "s(b=31)"
   ]
  },
  {
   "cell_type": "code",
   "execution_count": 11,
   "metadata": {},
   "outputs": [
    {
     "data": {
      "text/plain": [
       "41"
      ]
     },
     "execution_count": 11,
     "metadata": {},
     "output_type": "execute_result"
    }
   ],
   "source": [
    "s(11, 10, 10)"
   ]
  },
  {
   "cell_type": "code",
   "execution_count": 12,
   "metadata": {},
   "outputs": [
    {
     "data": {
      "text/plain": [
       "31"
      ]
     },
     "execution_count": 12,
     "metadata": {},
     "output_type": "execute_result"
    }
   ],
   "source": [
    "s(11, b=20)"
   ]
  },
  {
   "cell_type": "code",
   "execution_count": 13,
   "metadata": {},
   "outputs": [
    {
     "data": {
      "text/plain": [
       "31"
      ]
     },
     "execution_count": 13,
     "metadata": {},
     "output_type": "execute_result"
    }
   ],
   "source": [
    "s(5, 5, 5, 5, 1)"
   ]
  },
  {
   "cell_type": "code",
   "execution_count": 14,
   "metadata": {},
   "outputs": [
    {
     "data": {
      "text/plain": [
       "41"
      ]
     },
     "execution_count": 14,
     "metadata": {},
     "output_type": "execute_result"
    }
   ],
   "source": [
    "s(0, 0, 31)"
   ]
  },
  {
   "cell_type": "code",
   "execution_count": 15,
   "metadata": {},
   "outputs": [
    {
     "ename": "SyntaxError",
     "evalue": "positional argument follows keyword argument (<ipython-input-15-d68be4cd0005>, line 1)",
     "output_type": "error",
     "traceback": [
      "\u001b[1;36m  File \u001b[1;32m\"<ipython-input-15-d68be4cd0005>\"\u001b[1;36m, line \u001b[1;32m1\u001b[0m\n\u001b[1;33m    s(b=31, 0)\u001b[0m\n\u001b[1;37m           ^\u001b[0m\n\u001b[1;31mSyntaxError\u001b[0m\u001b[1;31m:\u001b[0m positional argument follows keyword argument\n"
     ]
    }
   ],
   "source": [
    "s(b=31, 0)"
   ]
  },
  {
   "cell_type": "code",
   "execution_count": null,
   "metadata": {},
   "outputs": [],
   "source": []
  },
  {
   "cell_type": "code",
   "execution_count": 16,
   "metadata": {},
   "outputs": [
    {
     "name": "stdout",
     "output_type": "stream",
     "text": [
      "8\n"
     ]
    }
   ],
   "source": [
    "def fib(x):\n",
    "    if x == 0 or x == 1:\n",
    "        return 1\n",
    "    else:\n",
    "        return fib(x - 1) + fib(x - 2)\n",
    "\n",
    "print(fib(5))"
   ]
  },
  {
   "cell_type": "code",
   "execution_count": null,
   "metadata": {},
   "outputs": [],
   "source": []
  },
  {
   "cell_type": "code",
   "execution_count": 25,
   "metadata": {},
   "outputs": [
    {
     "name": "stdin",
     "output_type": "stream",
     "text": [
      " 10 5\n"
     ]
    },
    {
     "name": "stdout",
     "output_type": "stream",
     "text": [
      "252\n"
     ]
    }
   ],
   "source": [
    "n, k = map(int, input().split())\n",
    "\n",
    "def c(n, k):\n",
    "    if k == 0:\n",
    "        return 1\n",
    "    elif k > n:\n",
    "        return 0\n",
    "    return c(n - 1, k) + c(n - 1, k - 1)\n",
    "\n",
    "print(c(n, k))\n"
   ]
  },
  {
   "cell_type": "code",
   "execution_count": null,
   "metadata": {},
   "outputs": [],
   "source": [
    "n, k = map(int, input().split())\n",
    "\n",
    "sz = max(n, k) + 1\n",
    "c = [[0] * sz for _ in range(sz)]\n",
    "\n",
    "c[0][0] = 1\n",
    "for i in range(1, sz):\n",
    "    for j in range(i + 1):\n",
    "        c[i][j] = c[i - 1][j] + c[i - 1][j - 1]\n",
    "\n",
    "print(c[n][k])"
   ]
  },
  {
   "cell_type": "code",
   "execution_count": null,
   "metadata": {},
   "outputs": [],
   "source": [
    "z = 6114516049891188342494954894200636178633190739088960143967354092901105665\n",
    "n,k = map(int, input().split())\n",
    "print(((z>>((n)*22))& 4194303)//((z>>((k)*22))& 4194303)//((z>>((n-k)*22))& 4194303))"
   ]
  },
  {
   "cell_type": "code",
   "execution_count": null,
   "metadata": {},
   "outputs": [],
   "source": [
    "def cnk(n, k):\n",
    "    return cnk(n - 1, k) + cnk(n - 1, k - 1) if k != 0 and k <= n else  1 if k == 0 else  0\n",
    "\n",
    "print(cnk(*map(int, input().split())))"
   ]
  },
  {
   "cell_type": "code",
   "execution_count": null,
   "metadata": {},
   "outputs": [],
   "source": []
  },
  {
   "cell_type": "markdown",
   "metadata": {},
   "source": [
    "#### Name Space"
   ]
  },
  {
   "cell_type": "markdown",
   "metadata": {},
   "source": [
    "Пространство имён - это множество ссылок на объекты"
   ]
  },
  {
   "cell_type": "markdown",
   "metadata": {},
   "source": [
    "1) Builtins: int,\n",
    "             str,\n",
    "             max\n",
    "             и т.д.\n",
    "2) Main - a = xxx///,\n",
    "          def func()..\n",
    "          "
   ]
  },
  {
   "cell_type": "markdown",
   "metadata": {},
   "source": [
    "|module| - global\n",
    "         - builtins"
   ]
  },
  {
   "cell_type": "markdown",
   "metadata": {},
   "source": [
    "Видимость - 'scope'\n",
    "\n",
    "LEGB - Local-Enclosing-Global-Builtins"
   ]
  },
  {
   "cell_type": "code",
   "execution_count": null,
   "metadata": {},
   "outputs": [],
   "source": []
  },
  {
   "cell_type": "code",
   "execution_count": 26,
   "metadata": {},
   "outputs": [
    {
     "ename": "NameError",
     "evalue": "name 'get' is not defined",
     "output_type": "error",
     "traceback": [
      "\u001b[1;31m---------------------------------------------------------------------------\u001b[0m",
      "\u001b[1;31mNameError\u001b[0m                                 Traceback (most recent call last)",
      "\u001b[1;32m<ipython-input-26-02456af57977>\u001b[0m in \u001b[0;36m<module>\u001b[1;34m\u001b[0m\n\u001b[0;32m      1\u001b[0m \u001b[0ma\u001b[0m \u001b[1;33m=\u001b[0m \u001b[1;36m5\u001b[0m\u001b[1;33m\u001b[0m\u001b[1;33m\u001b[0m\u001b[0m\n\u001b[1;32m----> 2\u001b[1;33m \u001b[0mget\u001b[0m\u001b[1;33m(\u001b[0m\u001b[0ma\u001b[0m\u001b[1;33m)\u001b[0m\u001b[1;33m\u001b[0m\u001b[1;33m\u001b[0m\u001b[0m\n\u001b[0m",
      "\u001b[1;31mNameError\u001b[0m: name 'get' is not defined"
     ]
    }
   ],
   "source": [
    "a = 5\n",
    "get(a)"
   ]
  },
  {
   "cell_type": "code",
   "execution_count": null,
   "metadata": {},
   "outputs": [],
   "source": []
  },
  {
   "cell_type": "code",
   "execution_count": 63,
   "metadata": {},
   "outputs": [
    {
     "name": "stdin",
     "output_type": "stream",
     "text": [
      " 5\n",
      " create first global\n",
      " create second first\n",
      " create third second\n",
      " add first my_var\n",
      " get third my_var\n"
     ]
    }
   ],
   "source": [
    "namespaces = {'global': 'None'}\n",
    "variables = {'global': 'None'}\n",
    "\n",
    "def add(namesp, arg):\n",
    "    global variables\n",
    "    variables[namesp] = arg\n",
    "\n",
    "def create(namesp, arg):\n",
    "    global namespaces\n",
    "    namespaces[namesp] = arg\n",
    "\n",
    "def get2(namesp):\n",
    "    global namespaces\n",
    "    #print('get2', namesp)\n",
    "    #print('get2',  namespaces[namesp])\n",
    "    return namespaces[namesp]\n",
    "\n",
    "def get(namesp, arg):\n",
    "    \n",
    "    if namesp == 'None':\n",
    "        print('None')\n",
    "        return\n",
    "    \n",
    "    global variables\n",
    "    global namespaces\n",
    "    \n",
    "    n = namesp\n",
    "    a = arg\n",
    "    \n",
    "    #print(n)\n",
    "    #print(a)\n",
    "    \n",
    "    if namesp in variables:\n",
    "        if variables[n] == a:\n",
    "            print(n)\n",
    "            \n",
    "        else:\n",
    "            return get(get2(n), a)\n",
    "\n",
    "    \n",
    "\n",
    "for i in range(int(input())):\n",
    "    cmd, namesp, arg = input().split()\n",
    "    if cmd == 'add':\n",
    "        add(namesp, arg)\n",
    "    elif cmd == 'create':\n",
    "        create(namesp, arg)\n",
    "    else:\n",
    "        get(namesp, arg)\n"
   ]
  },
  {
   "cell_type": "markdown",
   "metadata": {},
   "source": [
    " 5\n",
    " add global a\n",
    " create foo global\n",
    " add foo b\n",
    " create bar foo\n",
    " add bar a"
   ]
  },
  {
   "cell_type": "code",
   "execution_count": 64,
   "metadata": {},
   "outputs": [
    {
     "data": {
      "text/plain": [
       "{'global': 'None', 'first': 'global', 'second': 'first', 'third': 'second'}"
      ]
     },
     "execution_count": 64,
     "metadata": {},
     "output_type": "execute_result"
    }
   ],
   "source": [
    "namespaces"
   ]
  },
  {
   "cell_type": "code",
   "execution_count": 65,
   "metadata": {},
   "outputs": [
    {
     "data": {
      "text/plain": [
       "{'global': 'None', 'first': 'my_var'}"
      ]
     },
     "execution_count": 65,
     "metadata": {},
     "output_type": "execute_result"
    }
   ],
   "source": [
    "variables"
   ]
  },
  {
   "cell_type": "code",
   "execution_count": 66,
   "metadata": {},
   "outputs": [],
   "source": [
    "get('third', 'my_var')"
   ]
  },
  {
   "cell_type": "code",
   "execution_count": 60,
   "metadata": {},
   "outputs": [
    {
     "name": "stdout",
     "output_type": "stream",
     "text": [
      "foo\n",
      "None\n",
      "foo\n",
      "None\n"
     ]
    }
   ],
   "source": [
    "get('foo', 'a')\n",
    "get('foo', 'c')\n",
    "get('bar', 'a')\n",
    "get('bar', 'b')"
   ]
  },
  {
   "cell_type": "code",
   "execution_count": null,
   "metadata": {},
   "outputs": [],
   "source": []
  },
  {
   "cell_type": "code",
   "execution_count": null,
   "metadata": {},
   "outputs": [],
   "source": []
  },
  {
   "cell_type": "code",
   "execution_count": null,
   "metadata": {},
   "outputs": [],
   "source": []
  },
  {
   "cell_type": "code",
   "execution_count": null,
   "metadata": {},
   "outputs": [],
   "source": []
  },
  {
   "cell_type": "code",
   "execution_count": null,
   "metadata": {},
   "outputs": [],
   "source": []
  },
  {
   "cell_type": "code",
   "execution_count": null,
   "metadata": {},
   "outputs": [],
   "source": []
  },
  {
   "cell_type": "code",
   "execution_count": null,
   "metadata": {},
   "outputs": [],
   "source": []
  }
 ],
 "metadata": {
  "kernelspec": {
   "display_name": "Python 3",
   "language": "python",
   "name": "python3"
  },
  "language_info": {
   "codemirror_mode": {
    "name": "ipython",
    "version": 3
   },
   "file_extension": ".py",
   "mimetype": "text/x-python",
   "name": "python",
   "nbconvert_exporter": "python",
   "pygments_lexer": "ipython3",
   "version": "3.7.3"
  }
 },
 "nbformat": 4,
 "nbformat_minor": 2
}
